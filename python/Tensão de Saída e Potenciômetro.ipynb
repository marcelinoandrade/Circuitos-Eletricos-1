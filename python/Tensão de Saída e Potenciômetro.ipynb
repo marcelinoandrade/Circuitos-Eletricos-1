{
 "cells": [
  {
   "cell_type": "markdown",
   "metadata": {},
   "source": [
    "<h1><center>Variação da Tensão de Saída com Potenciômetro\n",
    "</center></h1>\n",
    "\n",
    "Analise de circuitos com Potenciômetro e o Python\n",
    "\n",
    "<ul>\n",
    "    <li> <b>Teoria de Circuitos Eletrônicos 1 - UnB</b> </li>\n",
    "    <a href=\"https://www.linkedin.com/in/marcelino-andrade-b164b369/\">\n",
    "    <li> <b>Prof. Marcelino Monteiro de Andrade Dr.</b> </li> </a>\n",
    "    <li> <b>16/09/2020</b> </li>\n",
    "</ul>"
   ]
  },
  {
   "cell_type": "markdown",
   "metadata": {},
   "source": [
    "### 1) A questão:\n",
    "\n",
    "<img src=\"Aula 1 - Circuito.jpg\" width=\"1200\" height=\"400\">"
   ]
  },
  {
   "cell_type": "markdown",
   "metadata": {},
   "source": [
    "### 2) A solução:\n",
    "<img src=\"Aula 1  - Solução.jpg\" width=\"1200\" height=\"400\">"
   ]
  },
  {
   "cell_type": "code",
   "execution_count": 1,
   "metadata": {},
   "outputs": [],
   "source": [
    "import numpy as np\n",
    "import matplotlib.pyplot as plt\n",
    "from numpy.linalg import inv"
   ]
  },
  {
   "cell_type": "markdown",
   "metadata": {},
   "source": [
    "### 3) Valores dos componentes"
   ]
  },
  {
   "cell_type": "code",
   "execution_count": 2,
   "metadata": {},
   "outputs": [],
   "source": [
    "Rp=20000\n",
    "alpha=0.5\n",
    "R1=1000\n",
    "R2=1000\n",
    "R3=5000\n",
    "R4=alpha*Rp\n",
    "R5=(1-alpha)*Rp\n",
    "V1=15\n",
    "V2=-15"
   ]
  },
  {
   "cell_type": "code",
   "execution_count": 3,
   "metadata": {},
   "outputs": [
    {
     "data": {
      "text/plain": [
       "(1000, 1000, 5000, 10000.0, 10000.0, 20000, 0.5, 15, -15)"
      ]
     },
     "execution_count": 3,
     "metadata": {},
     "output_type": "execute_result"
    }
   ],
   "source": [
    "R1,R2,R3,R4,R5,Rp,alpha,V1,V2"
   ]
  },
  {
   "cell_type": "markdown",
   "metadata": {},
   "source": [
    "### 4) Matriz de Transição, Entradas e Saídas"
   ]
  },
  {
   "cell_type": "code",
   "execution_count": 4,
   "metadata": {},
   "outputs": [
    {
     "name": "stdout",
     "output_type": "stream",
     "text": [
      "Matrix de Transição\n",
      "[[16000.  5000.]\n",
      " [ 5000. 16000.]]\n",
      "Entradas\n",
      "[[ 15]\n",
      " [-15]]\n",
      "Correntes de Malha\n",
      "[[ 0.00136364]\n",
      " [-0.00136364]]\n",
      "Saida\n",
      "[0.]\n"
     ]
    }
   ],
   "source": [
    "A=np.array([[R1+R3+R4,R3],[R3,R2+R3+R5]])\n",
    "print(\"Matrix de Transição\")\n",
    "print(A)\n",
    "print(\"Entradas\")\n",
    "V=np.array([[V1],[V2]])\n",
    "print(V)\n",
    "print(\"Correntes de Malha\")\n",
    "I=inv(A).dot(V)\n",
    "print(I)\n",
    "print(\"Saida\")\n",
    "Vo=R3*(I[0]+I[1])\n",
    "print(Vo)"
   ]
  },
  {
   "cell_type": "markdown",
   "metadata": {},
   "source": [
    "### 5) Variando o alpha"
   ]
  },
  {
   "cell_type": "code",
   "execution_count": 5,
   "metadata": {},
   "outputs": [
    {
     "name": "stdout",
     "output_type": "stream",
     "text": [
      "[0.1 0.2 0.3 0.4 0.5 0.6 0.7 0.8 0.9]\n"
     ]
    }
   ],
   "source": [
    "N=10\n",
    "alpha=np.array(range(1,N,))/N\n",
    "print(alpha)"
   ]
  },
  {
   "cell_type": "code",
   "execution_count": 6,
   "metadata": {},
   "outputs": [],
   "source": [
    "Vo=[]\n",
    "for alp in alpha:\n",
    "    R4=alp*Rp\n",
    "    R5=(1-alp)*Rp\n",
    "    A=np.array([[R1+R3+R4,R3],[R3,R2+R3+R5]])\n",
    "    V=np.array([[V1],[V2]])\n",
    "    I=inv(A).dot(V)\n",
    "    Vo.append(R3*(I[0]+I[1])[0])"
   ]
  },
  {
   "cell_type": "code",
   "execution_count": 7,
   "metadata": {},
   "outputs": [
    {
     "data": {
      "text/plain": [
       "[7.185628742514971,\n",
       " 4.615384615384616,\n",
       " 2.7906976744186043,\n",
       " 1.3215859030837005,\n",
       " 0.0,\n",
       " -1.3215859030837005,\n",
       " -2.7906976744186034,\n",
       " -4.615384615384616,\n",
       " -7.185628742514968]"
      ]
     },
     "execution_count": 7,
     "metadata": {},
     "output_type": "execute_result"
    }
   ],
   "source": [
    "Vo"
   ]
  },
  {
   "cell_type": "code",
   "execution_count": 8,
   "metadata": {},
   "outputs": [
    {
     "data": {
      "image/png": "[encoded data removed]",
      "text/plain": [
       "<Figure size 720x360 with 1 Axes>"
      ]
     },
     "metadata": {
      "needs_background": "light"
     },
     "output_type": "display_data"
    }
   ],
   "source": [
    "plt.figure(figsize=(10,5))\n",
    "plt.plot(alpha,Vo)\n",
    "plt.plot(alpha,Vo,\"ro\")\n",
    "plt.ylabel(\"Valor de Vo [V]\",fontsize=20)\n",
    "plt.xlabel(\"Valor do Alpha\",fontsize=15)\n",
    "plt.title(\"Variação da Tensão de Saida com Potenciometro\",fontsize=20)\n",
    "plt.grid()"
   ]
  },
  {
   "cell_type": "code",
   "execution_count": null,
   "metadata": {},
   "outputs": [],
   "source": []
  }
 ],
 "metadata": {
  "kernelspec": {
   "display_name": "Python 3",
   "language": "python",
   "name": "python3"
  },
  "language_info": {
   "codemirror_mode": {
    "name": "ipython",
    "version": 3
   },
   "file_extension": ".py",
   "mimetype": "text/x-python",
   "name": "python",
   "nbconvert_exporter": "python",
   "pygments_lexer": "ipython3",
   "version": "3.6.9"
  }
 },
 "nbformat": 4,
 "nbformat_minor": 4
}
